{
 "cells": [
  {
   "cell_type": "code",
   "execution_count": 1,
   "id": "53794acb",
   "metadata": {},
   "outputs": [],
   "source": [
    "'''\n",
    "1) The code imports the OpenCV, numpy, and scipy libraries \n",
    "2) reads a grayscale image called \"BrainNoise.jpeg,\"\n",
    "3) applies a median filter with a kernel size of 3 to it to reduce noise.\n",
    "4) The goal of the code is to demonstrate the median filter's impact on noise reduction in images.\n",
    "'''\n",
    "\n",
    "'''\n",
    "Image Processing and Data Visualization Winter Sem 2022 2023\n",
    "Dhananjay Mandalkar\n",
    "University of Wuppertal\n",
    "'''\n",
    "\n",
    "# the OpenCV library, which is used for image processing\n",
    "import cv2\n",
    "\n",
    "# the numpy library, which is used for numerical operations such as array manipulation\n",
    "import numpy as np\n",
    "\n",
    "# the numpy library, which is used for median filtering of the image\n",
    "from scipy.ndimage import median_filter\n",
    "\n",
    "# Load the image\n",
    "img = cv2.imread('BrainNoise.jpeg', cv2.IMREAD_GRAYSCALE)\n",
    "\n",
    "# Define the kernel size for the median filter\n",
    "kernel_size = 3\n",
    "\n",
    "# Perform median filtering\n",
    "filtered_img = median_filter(img, size=kernel_size)\n",
    "\n",
    "# Convert the filtered image to 8-bit unsigned integer format\n",
    "filtered_img = np.uint8(filtered_img)\n",
    "\n",
    "# Concatenate the original and filtered images side by side\n",
    "comparison_img = np.hstack((img, filtered_img))\n",
    "\n",
    "# Add title for original image\n",
    "cv2.putText(comparison_img,\"Original Image\", (10,30), cv2.FONT_HERSHEY_SIMPLEX, 0.8, (255,255,255), 2)\n",
    "\n",
    "# Add title for filtered image\n",
    "cv2.putText(comparison_img,\"Filtered Image\", (img.shape[1]+10,30), cv2.FONT_HERSHEY_SIMPLEX, 0.8, (255,255,255), 2)\n",
    "\n",
    "# Display the images\n",
    "cv2.imshow(\"Comparison\", comparison_img)\n",
    "cv2.waitKey(0)\n",
    "cv2.destroyAllWindows()\n"
   ]
  },
  {
   "cell_type": "code",
   "execution_count": null,
   "id": "65814fa9",
   "metadata": {},
   "outputs": [],
   "source": []
  }
 ],
 "metadata": {
  "kernelspec": {
   "display_name": "Python 3 (ipykernel)",
   "language": "python",
   "name": "python3"
  },
  "language_info": {
   "codemirror_mode": {
    "name": "ipython",
    "version": 3
   },
   "file_extension": ".py",
   "mimetype": "text/x-python",
   "name": "python",
   "nbconvert_exporter": "python",
   "pygments_lexer": "ipython3",
   "version": "3.10.6"
  }
 },
 "nbformat": 4,
 "nbformat_minor": 5
}
