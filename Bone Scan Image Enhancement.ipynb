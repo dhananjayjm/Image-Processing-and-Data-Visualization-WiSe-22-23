{
 "cells": [
  {
   "cell_type": "code",
   "execution_count": 1,
   "id": "cd71af0e",
   "metadata": {},
   "outputs": [
    {
     "data": {
      "text/plain": [
       "True"
      ]
     },
     "execution_count": 1,
     "metadata": {},
     "output_type": "execute_result"
    }
   ],
   "source": [
    "'''\n",
    "1) Code loads an image, sets the minimum and maximum intensity values for the contrast stretching transformation\n",
    "\n",
    "2) Creates a lookup table (LUT) to perform the transformation, applies the LUT to the image using the cv2.LUT function, \n",
    "\n",
    "3) Saves the enhanced image using the cv2.imwrite function. \n",
    "\n",
    "4) The LUT is an array of 256 elements, one for each possible pixel intensity value, \n",
    "and it is used to replace the intensity value of each pixel with the corresponding value from the LUT.\n",
    "'''\n",
    "\n",
    "'''\n",
    "Image Processing and Data Visualization Winter Sem 2022 2023\n",
    "Dhananjay Mandalkar\n",
    "University of Wuppertal\n",
    "'''\n",
    "\n",
    "import cv2\n",
    "import numpy as np\n",
    "\n",
    "# Load the image\n",
    "\n",
    "img = cv2.imread('BoneScan.jpeg', cv2.IMREAD_GRAYSCALE)\n",
    "\n",
    "# Define the minimum and maximum intensity values\n",
    "\n",
    "min_val = 30\n",
    "max_val = 150\n",
    "\n",
    "# A lookup table (LUT) is a simple data structure that can be used to perform \n",
    "# image processing operations such as contrast stretching.\n",
    "\n",
    "lut = np.zeros(256, dtype = img.dtype )\n",
    "for i, v in enumerate(lut):\n",
    "    if i < min_val:\n",
    "        lut[i] = 0\n",
    "    elif i > max_val:\n",
    "        lut[i] = 255\n",
    "    else:\n",
    "        lut[i] = (i - min_val) * (255 / (max_val - min_val))\n",
    "\n",
    "# Apply the lookup table to the image\n",
    "img = cv2.LUT(img, lut)\n",
    "\n",
    "# Save the enhanced image in the same folder\n",
    "cv2.imwrite('Enhanced_BoneScan_Image.jpeg', img)"
   ]
  }
 ],
 "metadata": {
  "kernelspec": {
   "display_name": "Python 3 (ipykernel)",
   "language": "python",
   "name": "python3"
  },
  "language_info": {
   "codemirror_mode": {
    "name": "ipython",
    "version": 3
   },
   "file_extension": ".py",
   "mimetype": "text/x-python",
   "name": "python",
   "nbconvert_exporter": "python",
   "pygments_lexer": "ipython3",
   "version": "3.10.6"
  }
 },
 "nbformat": 4,
 "nbformat_minor": 5
}
